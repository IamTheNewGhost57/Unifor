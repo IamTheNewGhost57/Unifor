{
  "nbformat": 4,
  "nbformat_minor": 0,
  "metadata": {
    "colab": {
      "provenance": [],
      "toc_visible": true,
      "authorship_tag": "ABX9TyMzc4913K65/fcZHsQPsqXv"
    },
    "kernelspec": {
      "name": "python3",
      "display_name": "Python 3"
    },
    "language_info": {
      "name": "python"
    }
  },
  "cells": [
    {
      "cell_type": "markdown",
      "source": [
        "<img src=\"https://drive.google.com/uc?id=1SOzRTjUt7cuBJpSqoK90fcAiKBrnpUJo\" width=\"400\">\n",
        "\n",
        "*Data:* preencha com a data de envio <br>\n",
        "*Aluno(a):* preencha com seus dados <br>\n",
        "*Matrícula:* preencha com seus dados <br>"
      ],
      "metadata": {
        "id": "02Dckeirosf4"
      }
    },
    {
      "cell_type": "markdown",
      "source": [
        "# Observação"
      ],
      "metadata": {
        "id": "P2aHawCOXJ3V"
      }
    },
    {
      "cell_type": "markdown",
      "source": [
        "Alteração dos nomes das funções devido às convenções da [PEP 8 – Style Guide for Python Code](https://peps.python.org/pep-0008/#naming-conventions)."
      ],
      "metadata": {
        "id": "pUzZBQ6qXBav"
      }
    },
    {
      "cell_type": "markdown",
      "source": [
        "# Exercícios"
      ],
      "metadata": {
        "id": "DUupEsKCXQOI"
      }
    },
    {
      "cell_type": "markdown",
      "source": [
        "## Soma\n"
      ],
      "metadata": {
        "id": "hRuWQ6-9spAd"
      }
    },
    {
      "cell_type": "code",
      "source": [
        "def somar_numeros():\n",
        "    \"\"\"\n",
        "    Função que calcula a soma de dois números inseridos pelo usuário.\n",
        "\n",
        "    Parâmetros:\n",
        "    Nenhum.\n",
        "\n",
        "    Retorna:\n",
        "    Nenhum.\n",
        "\n",
        "    Exemplo:\n",
        "    >>> Soma2Numeros()\n",
        "    Digite o primeiro número: 5\n",
        "    Digite o segundo número: 3\n",
        "    A soma de 5.0 e 3.0 é igual a 8.0\n",
        "\n",
        "    Exemplo de chamada com argumentos:\n",
        "    >>> num1 = 10\n",
        "    >>> num2 = 20\n",
        "    >>> Soma2Numeros(num1, num2)\n",
        "    A soma de 10.0 e 20.0 é igual a 30.0\n",
        "    \"\"\"\n",
        "    num1 = float(input(\"Digite o primeiro número: \"))\n",
        "    num2 = float(input(\"Digite o segundo número: \"))\n",
        "    soma = num1 + num2\n",
        "\n",
        "    print(f\"A soma de {num1} e {num2} é igual a {soma}\")"
      ],
      "metadata": {
        "id": "8LyjVBHLJCh6",
        "executionInfo": {
          "status": "ok",
          "timestamp": 1712490169014,
          "user_tz": 180,
          "elapsed": 445,
          "user": {
            "displayName": "Ricardo Carubbi",
            "userId": "14912743243699613788"
          }
        }
      },
      "execution_count": 14,
      "outputs": []
    },
    {
      "cell_type": "code",
      "source": [
        "if _name_ == \"_main_\":\n",
        "    somar_numeros()"
      ],
      "metadata": {
        "colab": {
          "base_uri": "https://localhost:8080/"
        },
        "id": "QG-Wx8whVS8T",
        "execution
